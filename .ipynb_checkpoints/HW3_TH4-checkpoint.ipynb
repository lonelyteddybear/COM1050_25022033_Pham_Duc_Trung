{
 "cells": [
  {
   "cell_type": "code",
   "execution_count": 15,
   "id": "c7068d48-a75f-45fb-a650-1ce0b4db5791",
   "metadata": {},
   "outputs": [
    {
     "name": "stdout",
     "output_type": "stream",
     "text": [
      "1 3 5 7 9 11 13 15 17 19 21 23 25 27 29 31 33 35 37 39 41 43 45 47 49 51 53 55 57 59 61 63 65 67 69 71 73 75 77 79 81 83 85 87 89 91 93 95 97 99 "
     ]
    }
   ],
   "source": [
    "#1\n",
    "#in so duong le < 100\n",
    "for i in range(100):\n",
    "    if i % 2:\n",
    "        print(i, end = \" \")"
   ]
  },
  {
   "cell_type": "code",
   "execution_count": 16,
   "id": "58456aba-416e-418d-acdf-7211d2708c62",
   "metadata": {},
   "outputs": [
    {
     "name": "stdout",
     "output_type": "stream",
     "text": [
      "6 12 18 24 30 36 42 48 54 60 66 72 78 84 90 96 "
     ]
    }
   ],
   "source": [
    "#2\n",
    "#in so duong chan chia het cho 3 va < 100\n",
    "for i in range(1, 100):\n",
    "    if i % 6 == 0:\n",
    "        print(i, end = \" \")"
   ]
  },
  {
   "cell_type": "code",
   "execution_count": 17,
   "id": "8e431f53-b295-4b96-a3c8-61595bc4b48b",
   "metadata": {},
   "outputs": [
    {
     "name": "stdin",
     "output_type": "stream",
     "text": [
      " 9\n"
     ]
    },
    {
     "name": "stdout",
     "output_type": "stream",
     "text": [
      "1 x 9 = 9\n",
      "2 x 9 = 18\n",
      "3 x 9 = 27\n",
      "4 x 9 = 36\n",
      "5 x 9 = 45\n",
      "6 x 9 = 54\n",
      "7 x 9 = 63\n",
      "8 x 9 = 72\n",
      "9 x 9 = 81\n"
     ]
    }
   ],
   "source": [
    "#3\n",
    "#cho so a, in bang cuu chuong\n",
    "a = int(input())\n",
    "for i in range(1,10):\n",
    "    print(f'{i} x {a} = {i * a}')"
   ]
  },
  {
   "cell_type": "code",
   "execution_count": 37,
   "id": "ccb57b8f-72c4-4f25-94ec-8ca5792f19fa",
   "metadata": {},
   "outputs": [
    {
     "name": "stdin",
     "output_type": "stream",
     "text": [
      " 3\n"
     ]
    },
    {
     "name": "stdout",
     "output_type": "stream",
     "text": [
      "  *   \n",
      " * *  \n",
      "***** \n"
     ]
    }
   ],
   "source": [
    "#4\n",
    "h = int(input())\n",
    "for i in range(1,h+1):\n",
    "    if i == 1:\n",
    "        for j in range(0,2*h-1):\n",
    "            print(\"*\" if j == (2*h-1)//2 else \" \", end = \"\")\n",
    "    elif i == h:\n",
    "        for j in range(0,2*h-1):\n",
    "            print(\"*\", end = \"\")\n",
    "    else:\n",
    "        mid = (2*h-1)//2\n",
    "        for j in range(0,2*h-1):\n",
    "            if j == mid + i - 1 or j == mid - i + 1:\n",
    "                print(\"*\", end = \"\")\n",
    "            else: \n",
    "                print(\" \", end = \"\")\n",
    "    print(\" \")\n",
    "    "
   ]
  },
  {
   "cell_type": "code",
   "execution_count": 18,
   "id": "8f779f5d-c49a-4168-940f-e14ab31c15b2",
   "metadata": {},
   "outputs": [
    {
     "name": "stdin",
     "output_type": "stream",
     "text": [
      " 10\n"
     ]
    },
    {
     "name": "stdout",
     "output_type": "stream",
     "text": [
      "55\n"
     ]
    }
   ],
   "source": [
    "#5\n",
    "n = int(input())\n",
    "tot = 0\n",
    "for i in range(n+1):\n",
    "    tot += i\n",
    "print(tot)"
   ]
  },
  {
   "cell_type": "code",
   "execution_count": 19,
   "id": "aad286c4-70c5-465d-b4e4-b3ae693b92a0",
   "metadata": {},
   "outputs": [
    {
     "name": "stdin",
     "output_type": "stream",
     "text": [
      " 10\n"
     ]
    },
    {
     "name": "stdout",
     "output_type": "stream",
     "text": [
      "1 10 2 5 "
     ]
    }
   ],
   "source": [
    "#6\n",
    "import math as m\n",
    "n = int(input())\n",
    "for i in range(1, int(m.sqrt(n) + 1)):\n",
    "    if n % i == 0:\n",
    "        print(i, end = \" \")\n",
    "        print(n//i, end = \" \")"
   ]
  },
  {
   "cell_type": "code",
   "execution_count": 23,
   "id": "5601470f-d538-4d77-975d-040b137a05f8",
   "metadata": {},
   "outputs": [
    {
     "name": "stdin",
     "output_type": "stream",
     "text": [
      " 16\n"
     ]
    },
    {
     "name": "stdout",
     "output_type": "stream",
     "text": [
      "2\n",
      "4\n",
      "5\n",
      "So luong uoc nguyen duong la 5\n"
     ]
    }
   ],
   "source": [
    "#7\n",
    "import math as m\n",
    "n = int(input())\n",
    "cnt = 0\n",
    "for i in range(1, int(m.sqrt(n) + 1)):\n",
    "    if n % i == 0:\n",
    "        if n // i == i:\n",
    "            cnt += 1\n",
    "        else:\n",
    "            cnt += 2\n",
    "print(f'So luong uoc nguyen duong la {cnt}')"
   ]
  },
  {
   "cell_type": "code",
   "execution_count": 16,
   "id": "ffc43f7d-0983-460a-97fc-3f9bff83b0fc",
   "metadata": {},
   "outputs": [
    {
     "name": "stdin",
     "output_type": "stream",
     "text": [
      " 10 20\n"
     ]
    },
    {
     "name": "stdout",
     "output_type": "stream",
     "text": [
      "Cac uoc chung cua 10 va 20 la: \n",
      "1 10 2 5 "
     ]
    }
   ],
   "source": [
    "#8\n",
    "import math as m\n",
    "a,b = map(int, input().split())\n",
    "if a > b:\n",
    "    a,b = b,a\n",
    "print(f'Cac uoc chung cua {a} va {b} la: ')\n",
    "for i in range(1, int(m.sqrt(a) + 1)):\n",
    "    if a % i == 0:\n",
    "        tmp = a // i\n",
    "        if b % i == 0:\n",
    "            print(i, end = \" \")\n",
    "        if b % tmp == 0:\n",
    "            print(tmp, end = \" \")"
   ]
  },
  {
   "cell_type": "code",
   "execution_count": 30,
   "id": "0b0416ae-c6a7-47a8-a300-72488cb8a4ca",
   "metadata": {},
   "outputs": [
    {
     "name": "stdin",
     "output_type": "stream",
     "text": [
      " 4\n"
     ]
    },
    {
     "name": "stdout",
     "output_type": "stream",
     "text": [
      "4 la so chinh phuong\n"
     ]
    }
   ],
   "source": [
    "#9\n",
    "import math as m\n",
    "n = int(input())\n",
    "n1 = int(m.sqrt(n))\n",
    "if n < 1:\n",
    "    print(f'{n} khong la so chinh phuong')\n",
    "else:\n",
    "    if n1**2 == n:\n",
    "        print(f'{n} la so chinh phuong')\n",
    "    else:\n",
    "        print(f'{n} khong la so chinh phuong')"
   ]
  },
  {
   "cell_type": "code",
   "execution_count": 10,
   "id": "79a47bff-609f-4bd4-958b-dcce273ac24f",
   "metadata": {},
   "outputs": [],
   "source": [
    "#10\n",
    "import math as m\n",
    "a = int(input())\n",
    "tong_uoc = 0\n",
    "for i in range(1, int(m.sqrt(a) + 1)):\n",
    "    if (a % i == 0):\n",
    "        if (a // i == i):\n",
    "            tong_uoc += i\n",
    "        else:\n",
    "            tong_uoc += i\n",
    "            tong_uoc += a // i\n",
    "tong_uoc -= a\n",
    "if (tong_uoc == a):\n",
    "    print(f'{a} la so hoan hao')\n",
    "else:\n",
    "    print(f'{a} khong la so hoan hao')"
   ]
  },
  {
   "cell_type": "code",
   "execution_count": 6,
   "id": "73ba24a8-5675-4f73-9e84-85dc10fd07c9",
   "metadata": {},
   "outputs": [
    {
     "name": "stdin",
     "output_type": "stream",
     "text": [
      "Hay nhap so nguyen duong n:  -1\n",
      "Nhap lai:  -2\n",
      "Nhap lai:  -3\n",
      "Nhap lai:  5\n"
     ]
    },
    {
     "name": "stdout",
     "output_type": "stream",
     "text": [
      "Ban nhap dung quy tac\n"
     ]
    }
   ],
   "source": [
    "#11\n",
    "a = int(input(\"Hay nhap so nguyen duong n: \"))\n",
    "if a > 0:\n",
    "    print(\"Ban nhap dung quy tac\")\n",
    "else:\n",
    "    flag = True\n",
    "    while(flag):\n",
    "        a = int(input(\"Nhap lai: \"))\n",
    "        if a > 0:\n",
    "            print(\"Ban nhap dung quy tac\")\n",
    "            flag = False"
   ]
  },
  {
   "cell_type": "code",
   "execution_count": 4,
   "id": "9aee4cee-1a2f-4cbb-867b-aeeecdf1fdcf",
   "metadata": {},
   "outputs": [
    {
     "name": "stdin",
     "output_type": "stream",
     "text": [
      " 7\n"
     ]
    },
    {
     "name": "stdout",
     "output_type": "stream",
     "text": [
      "So can tim la 3\n"
     ]
    }
   ],
   "source": [
    "#12\n",
    "#dien so n, tim so k sao cho tong tu 1 -> k Max va < n\n",
    "import math as m\n",
    "n = int(input())\n",
    "z = 2 * n\n",
    "z = int(m.sqrt(z))\n",
    "while (z * (z + 1) < 2 * n):\n",
    "    z += 1\n",
    "print(f'So can tim la {z-1}')"
   ]
  },
  {
   "cell_type": "code",
   "execution_count": 21,
   "id": "e76974b7-6a81-4342-b5c2-e26e41f7f044",
   "metadata": {},
   "outputs": [
    {
     "name": "stdin",
     "output_type": "stream",
     "text": [
      "Nhap A:  1.5\n"
     ]
    },
    {
     "name": "stdout",
     "output_type": "stream",
     "text": [
      "1.0 2.0\n",
      "1.5 3.0\n",
      "1.8333333333333333 4.0\n",
      "So n nho nhat la 3\n"
     ]
    }
   ],
   "source": [
    "#13\n",
    "A = float(input(\"Nhap A: \"))\n",
    "tot = 0.00\n",
    "n = 1.00\n",
    "while (tot <= A):\n",
    "    tot += 1.00 / n\n",
    "    n += 1.00\n",
    "    print(tot, n)\n",
    "print(f'So n nho nhat la {(n-1):.0f}')"
   ]
  },
  {
   "cell_type": "code",
   "execution_count": 15,
   "id": "a4e226c2-c840-4c7e-9cd5-f0b215632102",
   "metadata": {},
   "outputs": [
    {
     "name": "stdin",
     "output_type": "stream",
     "text": [
      " -1\n"
     ]
    },
    {
     "name": "stdout",
     "output_type": "stream",
     "text": [
      "So lon nhat la -1, nho nhat la -1\n"
     ]
    }
   ],
   "source": [
    "#14\n",
    "mn = 10000000000\n",
    "mx = -10000000000\n",
    "cnt = 0\n",
    "flag = True\n",
    "while (flag):\n",
    "    n = int(input())\n",
    "    if n == -1:\n",
    "        mx = max(mx, n)\n",
    "        mn = min(mn, n)\n",
    "        flag = False\n",
    "    else:\n",
    "        cnt += 1\n",
    "        mx = max(mx, n)\n",
    "        mn = min(mn, n)\n",
    "print(f'So lon nhat la {mx}, nho nhat la {mn}')"
   ]
  },
  {
   "cell_type": "code",
   "execution_count": 39,
   "id": "36e7e0e6-529c-469f-ae9d-3a9ea324db62",
   "metadata": {},
   "outputs": [
    {
     "name": "stdin",
     "output_type": "stream",
     "text": [
      " 1049\n"
     ]
    },
    {
     "name": "stdout",
     "output_type": "stream",
     "text": [
      "4\n"
     ]
    }
   ],
   "source": [
    "#15\n",
    "n = int(input())\n",
    "n = str(n)\n",
    "print(len(n))"
   ]
  },
  {
   "cell_type": "code",
   "execution_count": 36,
   "id": "5ad2de48-5deb-4bb0-bbb0-a29ecbe08e93",
   "metadata": {},
   "outputs": [
    {
     "name": "stdin",
     "output_type": "stream",
     "text": [
      " 1049\n"
     ]
    },
    {
     "name": "stdout",
     "output_type": "stream",
     "text": [
      "1049 co 4 chu so\n"
     ]
    }
   ],
   "source": [
    "#15\n",
    "n = int(input())\n",
    "tot = 0\n",
    "n1 = n\n",
    "while n > 0:\n",
    "    tot += 1\n",
    "    n //= 10\n",
    "print(f'{n1} co {tot} chu so')"
   ]
  },
  {
   "cell_type": "code",
   "execution_count": 35,
   "id": "b4cdc597-94d8-4c3b-9062-795070749e12",
   "metadata": {},
   "outputs": [
    {
     "name": "stdin",
     "output_type": "stream",
     "text": [
      " 1049\n"
     ]
    },
    {
     "name": "stdout",
     "output_type": "stream",
     "text": [
      "1049 co 2 chu so le va 2 chu so chan\n"
     ]
    }
   ],
   "source": [
    "#16\n",
    "n = int(input())\n",
    "n1 = n\n",
    "le = chan = 0\n",
    "while n > 0:\n",
    "    z = n % 10\n",
    "    if z % 2:\n",
    "        le += 1\n",
    "    else:\n",
    "        chan += 1\n",
    "    n //= 10\n",
    "print(f'{n1} co {le} chu so le va {chan} chu so chan')"
   ]
  },
  {
   "cell_type": "code",
   "execution_count": 34,
   "id": "f2c5d274-9d36-40ae-9248-f838123e360b",
   "metadata": {},
   "outputs": [
    {
     "name": "stdin",
     "output_type": "stream",
     "text": [
      " 1045\n"
     ]
    },
    {
     "name": "stdout",
     "output_type": "stream",
     "text": [
      "Tong cac chu so cua 1045 la 10\n"
     ]
    }
   ],
   "source": [
    "#17\n",
    "n = int(input())\n",
    "tot = 0\n",
    "n1 = n\n",
    "while n > 0:\n",
    "    tot += n % 10\n",
    "    n //= 10\n",
    "print(f'Tong cac chu so cua {n1} la {tot}')"
   ]
  },
  {
   "cell_type": "code",
   "execution_count": 27,
   "id": "857ad6d1-07fe-4c2e-85cd-dba372277c52",
   "metadata": {},
   "outputs": [
    {
     "name": "stdin",
     "output_type": "stream",
     "text": [
      " 80\n"
     ]
    },
    {
     "name": "stdout",
     "output_type": "stream",
     "text": [
      "80 ko co dang 3^k\n"
     ]
    }
   ],
   "source": [
    "#18\n",
    "n = int(input())\n",
    "n1 = n\n",
    "while (n % 3 == 0):\n",
    "    n //= 3\n",
    "if (n != 1):\n",
    "    print(f'{n1} ko co dang 3^k')\n",
    "else:\n",
    "    print(f'{n1} co dang 3^k')"
   ]
  },
  {
   "cell_type": "code",
   "execution_count": 25,
   "id": "a172f8dc-ce67-4785-860d-31029a4cb47f",
   "metadata": {},
   "outputs": [
    {
     "name": "stdin",
     "output_type": "stream",
     "text": [
      " 10\n"
     ]
    },
    {
     "name": "stdout",
     "output_type": "stream",
     "text": [
      "So fibo lon nhat <= 10 la 8\n"
     ]
    }
   ],
   "source": [
    "#19\n",
    "A = int(input())\n",
    "m,n = 1,1\n",
    "while (n <= A):\n",
    "    m, n = n, n+m\n",
    "    #print(m, n)\n",
    "print(f'So fibo lon nhat <= {A} la {m}')"
   ]
  },
  {
   "cell_type": "code",
   "execution_count": 29,
   "id": "66976e95-3d45-4caa-b48d-cb2b68731e7a",
   "metadata": {},
   "outputs": [
    {
     "name": "stdin",
     "output_type": "stream",
     "text": [
      " 23573\n"
     ]
    },
    {
     "name": "stdout",
     "output_type": "stream",
     "text": [
      "23573 co 5 chu so nguyen to\n"
     ]
    }
   ],
   "source": [
    "#20\n",
    "import math\n",
    "def nto(m):\n",
    "    if m < 2:\n",
    "        return False\n",
    "    elif m == 2 or m == 3:\n",
    "        return True\n",
    "    else:\n",
    "        for i in range(2, int(math.sqrt(m) + 1)):\n",
    "            if m % i == 0:\n",
    "                return False\n",
    "        return True\n",
    "\n",
    "n = int(input())\n",
    "cnt = 0\n",
    "n1 = n\n",
    "while (n):\n",
    "    z = n % 10\n",
    "    if nto(z):\n",
    "        cnt += 1\n",
    "    n //= 10\n",
    "print(f'{n1} co {cnt} chu so nguyen to')"
   ]
  }
 ],
 "metadata": {
  "kernelspec": {
   "display_name": "Python 3 (ipykernel)",
   "language": "python",
   "name": "python3"
  },
  "language_info": {
   "codemirror_mode": {
    "name": "ipython",
    "version": 3
   },
   "file_extension": ".py",
   "mimetype": "text/x-python",
   "name": "python",
   "nbconvert_exporter": "python",
   "pygments_lexer": "ipython3",
   "version": "3.13.5"
  }
 },
 "nbformat": 4,
 "nbformat_minor": 5
}
