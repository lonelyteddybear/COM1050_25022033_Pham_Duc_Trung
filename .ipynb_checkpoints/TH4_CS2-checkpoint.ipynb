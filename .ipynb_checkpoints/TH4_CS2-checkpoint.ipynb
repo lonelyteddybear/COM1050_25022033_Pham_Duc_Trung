{
 "cells": [
  {
   "cell_type": "code",
   "execution_count": 1,
   "id": "b92dceb3-3ab5-4ccd-8d15-42cae0aa1b1d",
   "metadata": {},
   "outputs": [
    {
     "name": "stdin",
     "output_type": "stream",
     "text": [
      " 1\n"
     ]
    },
    {
     "name": "stdout",
     "output_type": "stream",
     "text": [
      "1\n"
     ]
    }
   ],
   "source": [
    "#1\n",
    "n = int(input())\n",
    "total = 0\n",
    "for i in range(1, n+1, 1): #start, stop, step (3 parameters)\n",
    "    total += i\n",
    "print(total)"
   ]
  },
  {
   "cell_type": "code",
   "execution_count": 3,
   "id": "611c7ad8-2917-445f-972f-1a2411c7eacf",
   "metadata": {},
   "outputs": [
    {
     "name": "stdin",
     "output_type": "stream",
     "text": [
      "Nhap so nguyen:  10\n"
     ]
    },
    {
     "name": "stdout",
     "output_type": "stream",
     "text": [
      "Tong cac so nguyen tu 1 den n la 55\n"
     ]
    }
   ],
   "source": [
    "#1\n",
    "try:\n",
    "    n = int(input(\"Nhap so nguyen: \"))\n",
    "    total = 0\n",
    "    for i in range(1,n+1):\n",
    "        total += i\n",
    "    print(f'Tong cac so nguyen tu 1 den n la {total}')\n",
    "except ValueError:\n",
    "    print(\"Ko phai so nguyen\")"
   ]
  },
  {
   "cell_type": "code",
   "execution_count": 11,
   "id": "cfcaa414-d5ca-49da-a03c-ab873e0efec8",
   "metadata": {},
   "outputs": [
    {
     "name": "stdin",
     "output_type": "stream",
     "text": [
      "Nhập số nguyên:  29\n"
     ]
    },
    {
     "name": "stdout",
     "output_type": "stream",
     "text": [
      "Yes\n"
     ]
    }
   ],
   "source": [
    "#2\n",
    "import math as m\n",
    "def check_nto(n):\n",
    "    if n < 2:\n",
    "        return False\n",
    "    if n == 2 or n == 3: \n",
    "        return True\n",
    "    for i in range(2, int(m.sqrt(n)+1)):\n",
    "        if n % i == 0:\n",
    "            return False\n",
    "    return True\n",
    "    \n",
    "t = True\n",
    "num = 0\n",
    "while(t):\n",
    "    num = int(input(\"Nhập số nguyên: \"))\n",
    "    if (num > 0):\n",
    "        t = False\n",
    "print(\"Yes\" if check_nto(num) else \"No\")"
   ]
  },
  {
   "cell_type": "code",
   "execution_count": 21,
   "id": "6690e7cb-33ea-4223-af31-ccb4dc907732",
   "metadata": {},
   "outputs": [
    {
     "name": "stdin",
     "output_type": "stream",
     "text": [
      " 99\n"
     ]
    },
    {
     "name": "stdout",
     "output_type": "stream",
     "text": [
      "933262154439441526816992388562667004907159682643816214685929638952175999932299156089414639761565182862536979208272237582511852109168640000000000000000000000\n"
     ]
    }
   ],
   "source": [
    "#3\n",
    "n = int(input())\n",
    "if n == 0 or n == 1:\n",
    "    print(1)\n",
    "else:\n",
    "    factor = 1\n",
    "    tmp = 1\n",
    "    while (tmp <= n):\n",
    "        factor *= tmp\n",
    "        tmp += 1\n",
    "    print(factor)"
   ]
  },
  {
   "cell_type": "code",
   "execution_count": 51,
   "id": "5ef822ac-be17-4ce0-8e16-ec029f1e7a05",
   "metadata": {},
   "outputs": [
    {
     "name": "stdin",
     "output_type": "stream",
     "text": [
      " 0\n"
     ]
    },
    {
     "name": "stdout",
     "output_type": "stream",
     "text": [
      "1\n"
     ]
    }
   ],
   "source": [
    "#4\n",
    "n = int(input())\n",
    "n = abs(n)\n",
    "cnt = 0\n",
    "if n == 0:\n",
    "    print(1)\n",
    "else:\n",
    "    while n > 0:\n",
    "        n //= 10\n",
    "        cnt += 1\n",
    "    print(cnt)"
   ]
  },
  {
   "cell_type": "code",
   "execution_count": 17,
   "id": "809f3f9a-1c6c-4a2b-96f6-dd6f42f288e2",
   "metadata": {},
   "outputs": [
    {
     "name": "stdin",
     "output_type": "stream",
     "text": [
      " 5\n",
      "Nhap n so nguyen:  1 4 1 42 9\n"
     ]
    },
    {
     "name": "stdout",
     "output_type": "stream",
     "text": [
      "Co so 42\n"
     ]
    }
   ],
   "source": [
    "#5\n",
    "n = int(input())\n",
    "m = input(\"Nhap n so nguyen: \")\n",
    "m1 = list(map(int, m.split()))\n",
    "print(\"I've found the meaning of life!\" if 42 in m1 else \"It's a joke!\")\n",
    "    #print(m1[i], end = \" \")"
   ]
  },
  {
   "cell_type": "code",
   "execution_count": 22,
   "id": "b4bed013-d847-489d-b75a-6c806af5a075",
   "metadata": {},
   "outputs": [
    {
     "name": "stdin",
     "output_type": "stream",
     "text": [
      " 2\n",
      " 10\n"
     ]
    },
    {
     "name": "stdout",
     "output_type": "stream",
     "text": [
      "Nhap sai form\n"
     ]
    }
   ],
   "source": [
    "#6    \n",
    "import math as m\n",
    "try:\n",
    "    n = int(input())\n",
    "    while (n):\n",
    "        total = 0\n",
    "        a,b = map(int, input().split())\n",
    "        for i in range(a,b+1):\n",
    "            if i < 2:\n",
    "                total = total\n",
    "            elif i == 2 or i == 3:\n",
    "                total += i\n",
    "            else:\n",
    "                nto = True\n",
    "                for j in range(2, int(m.sqrt(i)+1)):\n",
    "                    if i % j == 0:\n",
    "                        nto = False\n",
    "                if (nto):\n",
    "                    total += i\n",
    "        print(f'Tong cac so nguyen to tu {a} den {b} la {total}')  \n",
    "        n -= 1\n",
    "except ValueError:\n",
    "    print(\"Nhap sai form\")"
   ]
  },
  {
   "cell_type": "code",
   "execution_count": null,
   "id": "49b1eac3-1fe6-4e3d-9560-4ffb19849cac",
   "metadata": {},
   "outputs": [],
   "source": [
    "#7\n",
    "import math as m\n",
    "try:\n",
    "    n = int(input(\"Nhap so nguyen duong n: \"))\n",
    "    n1 = n\n",
    "    mx = 0\n",
    "    for i in range(2, int(m.sqrt(n)+1)):\n",
    "        while n1 % i == 0:\n",
    "            mx = i\n",
    "            n1 //= i\n",
    "            #print(\"A\")\n",
    "        #print(n1)\n",
    "    if (n1 != 1):\n",
    "        print(n1)\n",
    "    else:\n",
    "        print(mx)\n",
    "except ValueError:\n",
    "    print(\"Khong phai so nguyen duong > 2\")"
   ]
  },
  {
   "cell_type": "code",
   "execution_count": 66,
   "id": "bea9aadc-b4ef-4f46-a083-fcf580044af6",
   "metadata": {},
   "outputs": [
    {
     "name": "stdin",
     "output_type": "stream",
     "text": [
      " 1928\n"
     ]
    },
    {
     "name": "stdout",
     "output_type": "stream",
     "text": [
      "8291 10219\n",
      "91201 101420\n",
      "024101 125521\n",
      "So lan tao palindrome la 3\n"
     ]
    }
   ],
   "source": [
    "#8\n",
    "n = int(input())\n",
    "cnt = 0\n",
    "flag = True\n",
    "if (str(n) == str(n)[::-1]):\n",
    "    flag = False\n",
    "while(flag):\n",
    "    n1 = str(n)\n",
    "    n1 = n1[::-1]\n",
    "    n += int(n1)\n",
    "    print(n1, n)\n",
    "    cnt += 1\n",
    "    if (str(n) == str(n)[::-1]):\n",
    "        break\n",
    "print(f'So lan tao palindrome la {cnt}')"
   ]
  },
  {
   "cell_type": "code",
   "execution_count": 34,
   "id": "10c2af5e-56ac-49d4-a833-f4ead13706df",
   "metadata": {},
   "outputs": [
    {
     "name": "stdin",
     "output_type": "stream",
     "text": [
      "Nhap so nguyen duong n:  169\n"
     ]
    },
    {
     "name": "stdout",
     "output_type": "stream",
     "text": [
      "So luong uoc chan cua 169 la 0\n"
     ]
    }
   ],
   "source": [
    "#11\n",
    "import math as m\n",
    "try:\n",
    "    n = int(input(\"Nhap so nguyen duong n: \"))\n",
    "    n1 = n\n",
    "    cnt = 0\n",
    "    for i in range(1, int(m.sqrt(n)+1)):\n",
    "        if n % i == 0:\n",
    "            if i % 2 == 0:\n",
    "                cnt += 1\n",
    "            if (n / i) % 2 == 0:\n",
    "                cnt += 1\n",
    "            #print(\"A\")\n",
    "        #print(n1)\n",
    "    print(f'So luong uoc chan cua {n} la {cnt}')\n",
    "except ValueError:\n",
    "    print(\"Khong phai so nguyen duong\")"
   ]
  },
  {
   "cell_type": "code",
   "execution_count": 38,
   "id": "6c594ff5-29cc-40d9-b5d7-f5068f4d2152",
   "metadata": {},
   "outputs": [
    {
     "name": "stdin",
     "output_type": "stream",
     "text": [
      "Nhap so tien va so thang:  100 5\n"
     ]
    },
    {
     "name": "stdout",
     "output_type": "stream",
     "text": [
      "So tien rut duoc sau 169 thang la 104\n"
     ]
    }
   ],
   "source": [
    "#12\n",
    "X,N = map(float, input(\"Nhap so tien va so thang: \").split())\n",
    "N = int(N)\n",
    "for i in range(N):\n",
    "    X = X * (1 + 0.7 / 100)\n",
    "print(f'So tien rut duoc sau {n} thang la {X:.0f}')"
   ]
  },
  {
   "cell_type": "code",
   "execution_count": 48,
   "id": "2a080c2e-e7f9-4b3f-99c7-d8872bf7aadb",
   "metadata": {},
   "outputs": [
    {
     "name": "stdin",
     "output_type": "stream",
     "text": [
      "Nhap 2 so:  2 2\n"
     ]
    },
    {
     "name": "stdout",
     "output_type": "stream",
     "text": [
      "3 3\n",
      "true\n"
     ]
    }
   ],
   "source": [
    "#13\n",
    "import math as m\n",
    "try: \n",
    "    x,y = map(int, input(\"Nhap 2 so: \").split())\n",
    "    sum_x = sum_y = 0\n",
    "    for i in range(1, int(m.sqrt(x)+1)):\n",
    "        if (x % i == 0):\n",
    "            sum_x += i \n",
    "            sum_x += x//i\n",
    "    for i in range(1, int(m.sqrt(y)+1)):\n",
    "        if (y % i == 0):\n",
    "            sum_y += i \n",
    "            sum_y += y//i\n",
    "    print(sum_x, sum_y)\n",
    "    if (int(sum_x) == int(sum_y)):\n",
    "        print(\"true\")\n",
    "    else:\n",
    "        print(\"false\")\n",
    "except ErrorValue:\n",
    "    print(\"Nhap loi\")"
   ]
  },
  {
   "cell_type": "code",
   "execution_count": 47,
   "id": "de9ebbaf-c1ac-4b23-b40d-48c6ee144d2e",
   "metadata": {},
   "outputs": [],
   "source": [
    "#14\n",
    "import math as m\n",
    "try: \n",
    "    x,y = map(int, input(\"Nhap 2 so: \").split())\n",
    "    \n",
    "except ErrorValue:\n",
    "    print(\"Nhap loi\")"
   ]
  }
 ],
 "metadata": {
  "kernelspec": {
   "display_name": "Python 3 (ipykernel)",
   "language": "python",
   "name": "python3"
  },
  "language_info": {
   "codemirror_mode": {
    "name": "ipython",
    "version": 3
   },
   "file_extension": ".py",
   "mimetype": "text/x-python",
   "name": "python",
   "nbconvert_exporter": "python",
   "pygments_lexer": "ipython3",
   "version": "3.13.5"
  }
 },
 "nbformat": 4,
 "nbformat_minor": 5
}
