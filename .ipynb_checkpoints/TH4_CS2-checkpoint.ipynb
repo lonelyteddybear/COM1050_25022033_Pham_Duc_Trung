{
 "cells": [
  {
   "cell_type": "code",
   "execution_count": 8,
   "id": "b92dceb3-3ab5-4ccd-8d15-42cae0aa1b1d",
   "metadata": {},
   "outputs": [
    {
     "name": "stdin",
     "output_type": "stream",
     "text": [
      " 10\n"
     ]
    },
    {
     "name": "stdout",
     "output_type": "stream",
     "text": [
      "55\n"
     ]
    }
   ],
   "source": [
    "#1\n",
    "n = int(input())\n",
    "sum = 0\n",
    "for i in range(n+1):\n",
    "    sum += i\n",
    "print(sum)"
   ]
  },
  {
   "cell_type": "code",
   "execution_count": 15,
   "id": "cfcaa414-d5ca-49da-a03c-ab873e0efec8",
   "metadata": {},
   "outputs": [
    {
     "name": "stdin",
     "output_type": "stream",
     "text": [
      "Nhập số nguyên:  -1\n",
      "Nhập số nguyên:  -2\n",
      "Nhập số nguyên:  -3\n",
      "Nhập số nguyên:  -5\n",
      "Nhập số nguyên:  -6\n",
      "Nhập số nguyên:  1\n"
     ]
    },
    {
     "name": "stdout",
     "output_type": "stream",
     "text": [
      "No\n"
     ]
    }
   ],
   "source": [
    "#2\n",
    "import math as m\n",
    "def check_nto(n):\n",
    "    if n < 2:\n",
    "        return False\n",
    "    if n == 2 or n == 3: \n",
    "        return True\n",
    "    for i in range(2, m.sqrt(n)+1):\n",
    "        if n % i == 0:\n",
    "            return False\n",
    "    return True\n",
    "    \n",
    "t = True\n",
    "num = 0\n",
    "while(t):\n",
    "    num = int(input(\"Nhập số nguyên: \"))\n",
    "    if (num > 0):\n",
    "        t = False\n",
    "print(\"Yes\" if check_nto(num) else \"No\")"
   ]
  },
  {
   "cell_type": "code",
   "execution_count": 21,
   "id": "6690e7cb-33ea-4223-af31-ccb4dc907732",
   "metadata": {},
   "outputs": [
    {
     "name": "stdin",
     "output_type": "stream",
     "text": [
      " 99\n"
     ]
    },
    {
     "name": "stdout",
     "output_type": "stream",
     "text": [
      "933262154439441526816992388562667004907159682643816214685929638952175999932299156089414639761565182862536979208272237582511852109168640000000000000000000000\n"
     ]
    }
   ],
   "source": [
    "#3\n",
    "n = int(input())\n",
    "if n == 0 or n == 1:\n",
    "    print(1)\n",
    "else:\n",
    "    factor = 1\n",
    "    tmp = 1\n",
    "    while (tmp <= n):\n",
    "        factor *= tmp\n",
    "        tmp += 1\n",
    "    print(factor)"
   ]
  },
  {
   "cell_type": "code",
   "execution_count": 24,
   "id": "5ef822ac-be17-4ce0-8e16-ec029f1e7a05",
   "metadata": {},
   "outputs": [
    {
     "name": "stdin",
     "output_type": "stream",
     "text": [
      " -10\n"
     ]
    },
    {
     "name": "stdout",
     "output_type": "stream",
     "text": [
      "2\n"
     ]
    }
   ],
   "source": [
    "#4\n",
    "n = int(input())\n",
    "n = abs(n)\n",
    "cnt = 0\n",
    "while n > 0:\n",
    "    n //= 10\n",
    "    cnt += 1\n",
    "print(cnt)"
   ]
  },
  {
   "cell_type": "code",
   "execution_count": 6,
   "id": "809f3f9a-1c6c-4a2b-96f6-dd6f42f288e2",
   "metadata": {},
   "outputs": [],
   "source": [
    "#5"
   ]
  },
  {
   "cell_type": "code",
   "execution_count": 7,
   "id": "b4bed013-d847-489d-b75a-6c806af5a075",
   "metadata": {},
   "outputs": [],
   "source": [
    "#6"
   ]
  },
  {
   "cell_type": "code",
   "execution_count": 36,
   "id": "35cdf136-93c4-4b81-b833-1ab907c0f209",
   "metadata": {},
   "outputs": [
    {
     "name": "stdin",
     "output_type": "stream",
     "text": [
      " 23\n"
     ]
    },
    {
     "name": "stdout",
     "output_type": "stream",
     "text": [
      "23\n"
     ]
    }
   ],
   "source": [
    "#7\n",
    "import math as m\n",
    "n = int(input())\n",
    "n1 = n\n",
    "mx = 0\n",
    "for i in range(2, int(m.sqrt(n)+1)):\n",
    "    while n1 % i == 0:\n",
    "        mx = i\n",
    "        n1 //= i\n",
    "        #print(\"A\")\n",
    "    print(n1)\n",
    "if (n1 != 1):\n",
    "    print(n1)\n",
    "else:\n",
    "    print(mx)"
   ]
  },
  {
   "cell_type": "code",
   "execution_count": null,
   "id": "10c2af5e-56ac-49d4-a833-f4ead13706df",
   "metadata": {},
   "outputs": [],
   "source": []
  }
 ],
 "metadata": {
  "kernelspec": {
   "display_name": "Python 3 (ipykernel)",
   "language": "python",
   "name": "python3"
  },
  "language_info": {
   "codemirror_mode": {
    "name": "ipython",
    "version": 3
   },
   "file_extension": ".py",
   "mimetype": "text/x-python",
   "name": "python",
   "nbconvert_exporter": "python",
   "pygments_lexer": "ipython3",
   "version": "3.13.5"
  }
 },
 "nbformat": 4,
 "nbformat_minor": 5
}
